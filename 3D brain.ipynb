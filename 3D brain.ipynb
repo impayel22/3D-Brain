{
 "cells": [
  {
   "cell_type": "code",
   "execution_count": null,
   "id": "sustained-impression",
   "metadata": {},
   "outputs": [],
   "source": [
    "import nibabel as nib\n",
    "    \n",
    "file =r\"C:\\Users\\DCL\\OneDrive\\Documents\\breast\\BraTS20_Training_001_flair.nii\" #Your nii or nii.gz file path\n",
    "img = nib.load(file)    \n",
    "print(img)"
   ]
  },
  {
   "cell_type": "code",
   "execution_count": null,
   "id": "rough-minneapolis",
   "metadata": {},
   "outputs": [],
   "source": [
    "import os\n",
    "import numpy as np\n",
    "import nibabel as nib\n",
    "import imageio\n",
    "import matplotlib\n",
    "from nibabel.viewers import OrthoSlicer3D\n",
    "from matplotlib import pylab as plt\n",
    "\n",
    "def read_niifile(niifilepath):\n",
    "    img = nib.load(niifilepath) \n",
    "    img_fdata = img.get_fdata() \n",
    "    return img_fdata\n",
    " \n",
    "def save_fig(niifilepath,savepath):\n",
    "    fdata = read_niifile(niifilepath) \n",
    "    (x,y,z) = fdata.shape \n",
    "    for k in range(z):\n",
    "        silce = fdata[:,:,k] #Three positions represent three slices with different angles\n",
    "        imageio.imwrite(os.path.join(savepath,'{}.png'.format(k)),silce)\n",
    "                                                                                 #Save the slice as png format\n",
    "if __name__=='__main__':\n",
    "    niifilepath=r\"C:\\Users\\DCL\\OneDrive\\Documents\\breast\\BraTS20_Training_001_flair.nii\"\n",
    "    savepath=r\"C:\\Users\\DCL\\OneDrive\\Documents\\breast\\3d brain\"\n",
    "    if not os.path.exists(savepath):\n",
    "        os.makedirs(savepath)\n",
    "    save_fig(niifilepath,savepath)"
   ]
  },
  {
   "cell_type": "code",
   "execution_count": null,
   "id": "dressed-blond",
   "metadata": {},
   "outputs": [],
   "source": [
    "Flair= nib.load('/content/drive/MyDrive/3D brain/BraTS2020_sorted/HGG/BraTS20_Training_001/BraTS20_Training_001_flair.nii')\n",
    "Seg= nib.load('/content/drive/MyDrive/3D brain/BraTS2020_sorted/HGG/BraTS20_Training_001/BraTS20_Training_001_seg.nii')\n",
    "T1= nib.load('/content/drive/MyDrive/3D brain/BraTS2020_sorted/HGG/BraTS20_Training_001/BraTS20_Training_001_t1.nii')\n",
    "T1ce= nib.load('/content/drive/MyDrive/3D brain/BraTS2020_sorted/HGG/BraTS20_Training_001/BraTS20_Training_001_t1ce.nii')\n",
    "T2= nib.load('/content/drive/MyDrive/3D brain/BraTS2020_sorted/HGG/BraTS20_Training_001/BraTS20_Training_001_t2.nii')"
   ]
  },
  {
   "cell_type": "code",
   "execution_count": null,
   "id": "grand-fifteen",
   "metadata": {},
   "outputs": [],
   "source": [
    "t1_data = T1.get_fdata()\n",
    "print(t1_data)"
   ]
  },
  {
   "cell_type": "code",
   "execution_count": null,
   "id": "atlantic-bible",
   "metadata": {},
   "outputs": [],
   "source": [
    "import matplotlib.pyplot as plt\n",
    "import nilearn as nl\n",
    "import nibabel as nib\n",
    "import nilearn.plotting as nlplt\n",
    "\n",
    "#niimg = nl.image.load_img()\n",
    "#nimask = nl.image.load_img(TRAIN_DATASET_PATH + 'BraTS20_Training_001/BraTS20_Training_001_seg.nii')\n",
    "\n",
    "fig, axes = plt.subplots(nrows=4, figsize=(30, 40))\n",
    "\n",
    "\n",
    "nlplt.plot_anat(Flair,\n",
    "                title='BraTS20_Training_001_flair.nii plot_anat',\n",
    "                axes=axes[0])\n",
    "\n",
    "nlplt.plot_epi(Flair,\n",
    "               title='BraTS20_Training_001_flair.nii plot_epi',\n",
    "               axes=axes[1])\n",
    "\n",
    "nlplt.plot_img(Flair,\n",
    "               title='BraTS20_Training_001_flair.nii plot_img',\n",
    "               axes=axes[2])\n",
    "\n",
    "nlplt.plot_roi(Seg, \n",
    "               title='BraTS20_Training_001_flair.nii with mask plot_roi',\n",
    "               bg_img=Flair, \n",
    "               axes=axes[3], cmap='Paired')\n",
    "\n",
    "plt.show()"
   ]
  },
  {
   "cell_type": "code",
   "execution_count": null,
   "id": "involved-tuning",
   "metadata": {},
   "outputs": [],
   "source": [
    "plotting.plot_anat(Flair,cut_coords=[-100, 100, 100],title=\"Flair\",draw_cross =False)"
   ]
  },
  {
   "cell_type": "code",
   "execution_count": null,
   "id": "disturbed-bottle",
   "metadata": {},
   "outputs": [],
   "source": [
    "plotting.plot_anat(T1,cut_coords=[-100, 100, 100],title=\"T1\",draw_cross =False)"
   ]
  },
  {
   "cell_type": "code",
   "execution_count": null,
   "id": "continued-usage",
   "metadata": {},
   "outputs": [],
   "source": [
    "Path= '/content/drive/MyDrive/3D brain/BraTS2020_sorted/HGG'\n",
    "Path1 = '/content/drive/MyDrive/3D brain/Data/BraTS2020_TrainingData/MICCAI_BraTS2020_TrainingData'\n",
    "p=os.listdir(Path)\n",
    "Input_Data2= []\n",
    "\n",
    "for i in p[:20]:\n",
    "    brain_dir = os.path.normpath(Path+'/'+i)\n",
    "    flair     = glob.glob(os.path.join(brain_dir, '*_flair*.nii'))\n",
    "    t1        = glob.glob(os.path.join(brain_dir, '*_t1*.nii'))\n",
    "    t1ce      = glob.glob(os.path.join(brain_dir, '*_t1ce*.nii'))\n",
    "    t2        = glob.glob(os.path.join(brain_dir, '*_t2*.nii'))\n",
    "    gt        = glob.glob( os.path.join(brain_dir, '*_seg*.nii'))\n",
    "    modalities_dir = [flair[0], t1[0], t1ce[0], t2[0], gt[0]]\n",
    "    "
   ]
  },
  {
   "cell_type": "code",
   "execution_count": null,
   "id": "later-democrat",
   "metadata": {},
   "outputs": [],
   "source": [
    "print(flair[0])\n",
    "print(modalities_dir)"
   ]
  },
  {
   "cell_type": "code",
   "execution_count": null,
   "id": "minor-treat",
   "metadata": {},
   "outputs": [],
   "source": [
    "for x in Input_Data2:\n",
    "  Input_Data.append(x)"
   ]
  },
  {
   "cell_type": "code",
   "execution_count": null,
   "id": "likely-portugal",
   "metadata": {},
   "outputs": [],
   "source": [
    "fig = plt.figure(figsize=(5,5))\n",
    "immmg = Input_Data[1][100,:,:,3]\n",
    "imgplot = plt.imshow(immmg)\n",
    "plt.show()"
   ]
  },
  {
   "cell_type": "code",
   "execution_count": null,
   "id": "generous-fundamentals",
   "metadata": {},
   "outputs": [],
   "source": [
    "rootpath = '/content/drive/MyDrive/3D brain/Data/BraTS2020_TrainingData/MICCAI_BraTS2020_TrainingData'\n",
    "rootlist = []\n",
    "totlist = []\n",
    "for filename_root in tqdm(np.sort(os.listdir(rootpath))[:-2]):\n",
    "    subpath = os.path.join(rootpath, filename_root)\n",
    "    filelist = []\n",
    "    for filename in np.sort(os.listdir(subpath)):\n",
    "        filelist.append(os.path.join(subpath, filename))\n",
    "    rootlist.append(filename_root)\n",
    "    totlist.append(filelist)\n",
    "    \n",
    "maps = pd.concat([pd.DataFrame(rootlist, columns = ['DIR']), \n",
    "                  pd.DataFrame(totlist, columns = ['flair', 'seg', 't1', 't1ce', 't2'])], axis = 1)\n"
   ]
  },
  {
   "cell_type": "code",
   "execution_count": null,
   "id": "touched-logging",
   "metadata": {},
   "outputs": [],
   "source": [
    "def DataReader(filepath):\n",
    "    input = nib.load(filepath)\n",
    "    return(np.rot90(np.array(input.get_fdata())))"
   ]
  },
  {
   "cell_type": "code",
   "execution_count": null,
   "id": "separate-galaxy",
   "metadata": {},
   "outputs": [],
   "source": [
    "ctscan_image = DataReader(maps['flair'][0])\n",
    "fig = plt.figure(figsize = (18, 15))\n",
    "plt.subplot(2, 2, 1)\n",
    "plt.imshow(ctscan_image[:, :, 100], cmap = 'bone')\n",
    "plt.axis('off')\n",
    "#plt.savefig('/content/drive/MyDrive/3D brain/try/books_read.png')\n",
    "plt.savefig('/content/drive/MyDrive/3D brain/try/flair_1.png',bbox_inches='tight', pad_inches=0)\n",
    "\n",
    "plt.title('Original Image', fontsize = 22.5)"
   ]
  },
  {
   "cell_type": "code",
   "execution_count": null,
   "id": "modern-minister",
   "metadata": {},
   "outputs": [],
   "source": [
    "ctscan_image = DataReader(maps['t1'][0])\n",
    "fig = plt.figure(figsize = (18, 15))\n",
    "plt.subplot(2, 2, 1)\n",
    "plt.axis('off')\n",
    "plt.imshow(ctscan_image[:, :, 100], cmap = 'bone')\n",
    "plt.savefig('/content/drive/MyDrive/3D brain/try/t1_1.png',bbox_inches='tight', pad_inches=0)\n",
    "plt.title('Original Image', fontsize = 22.5)"
   ]
  },
  {
   "cell_type": "code",
   "execution_count": null,
   "id": "compound-charlotte",
   "metadata": {},
   "outputs": [],
   "source": [
    "SAMPLE = 130\n",
    "\n",
    "fig = plt.figure(figsize = (18, 15))\n",
    "plt.subplot(1, 5, 1)\n",
    "plt.imshow(flair_sampler[SAMPLE], cmap = 'bone')\n",
    "plt.title('Original Image')\n",
    "\n",
    "plt.subplot(1, 5, 2)\n",
    "plt.imshow(t1ce_sampler[SAMPLE], cmap = 'bone')\n",
    "plt.imshow(seg_sampler[SAMPLE], alpha = 0.5, cmap = 'nipy_spectral')\n",
    "plt.title('segment')\n",
    "\n",
    "plt.subplot(1, 5, 3)\n",
    "plt.imshow(t1ce_sampler[SAMPLE], cmap = 'bone')\n",
    "plt.imshow(t1_sampler[SAMPLE], alpha = 0.5, cmap = 'nipy_spectral')\n",
    "plt.title('t1')\n",
    "\n",
    "plt.subplot(1, 5, 4)\n",
    "plt.imshow(t1ce_sampler[SAMPLE], cmap = 'bone')\n",
    "plt.imshow(t1ce_sampler[SAMPLE], alpha = 0.5, cmap = 'nipy_spectral')\n",
    "plt.title('t1ce')\n",
    "\n",
    "plt.subplot(1, 5, 5)\n",
    "plt.imshow(t1ce_sampler[SAMPLE], cmap = 'bone')\n",
    "plt.imshow(t2_sampler[SAMPLE], alpha = 0.5, cmap = 'nipy_spectral')\n",
    "plt.title('t2')"
   ]
  },
  {
   "cell_type": "code",
   "execution_count": null,
   "id": "deadly-grenada",
   "metadata": {},
   "outputs": [],
   "source": [
    "fig = plt.figure(figsize = (18, 15))\n",
    "plt.subplot(1, 5, 1)\n",
    "plt.imshow(flair_sampler[SAMPLE], cmap = 'bone')\n",
    "plt.title('Original Image')\n",
    "\n",
    "plt.subplot(1, 5, 2)\n",
    "plt.imshow(seg_sampler[SAMPLE], cmap = 'bone')\n",
    "plt.title('brain Mask')\n",
    "\n",
    "plt.subplot(1, 5, 3)\n",
    "plt.imshow(t1_sampler[SAMPLE], cmap = 'bone')\n",
    "plt.title('t1 Mask')\n",
    "\n",
    "plt.subplot(1, 5, 4)\n",
    "plt.imshow(t1ce_sampler[SAMPLE], cmap = 'bone')\n",
    "plt.title('t1ce Mask')\n",
    "\n",
    "plt.subplot(1, 5, 5)\n",
    "plt.imshow(t2_sampler[SAMPLE], cmap = 'bone')\n",
    "plt.title('t2')"
   ]
  },
  {
   "cell_type": "code",
   "execution_count": null,
   "id": "medium-average",
   "metadata": {},
   "outputs": [],
   "source": [
    "SAMPLE = 40\n",
    "\n",
    "fig = plt.figure(figsize = (10, 5))\n",
    "plt.subplot(1, 2, 1)\n",
    "plt.imshow(flair_sampler[SAMPLE], cmap = 'bone')\n",
    "plt.title('Original Image')\n",
    "\n",
    "plt.subplot(1, 2, 2)\n",
    "plt.imshow(seg_sampler[SAMPLE], cmap = 'bone')\n",
    "plt.title('brain Mask')\n",
    "\n",
    "plt.tight_layout()"
   ]
  },
  {
   "cell_type": "code",
   "execution_count": null,
   "id": "experienced-silence",
   "metadata": {},
   "outputs": [],
   "source": []
  }
 ],
 "metadata": {
  "kernelspec": {
   "display_name": "Python 3",
   "language": "python",
   "name": "python3"
  },
  "language_info": {
   "codemirror_mode": {
    "name": "ipython",
    "version": 3
   },
   "file_extension": ".py",
   "mimetype": "text/x-python",
   "name": "python",
   "nbconvert_exporter": "python",
   "pygments_lexer": "ipython3",
   "version": "3.8.4"
  }
 },
 "nbformat": 4,
 "nbformat_minor": 5
}
